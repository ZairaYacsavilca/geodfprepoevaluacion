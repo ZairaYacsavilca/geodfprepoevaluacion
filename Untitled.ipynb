{
 "cells": [
  {
   "cell_type": "code",
   "execution_count": null,
   "id": "d0d16004",
   "metadata": {},
   "outputs": [],
   "source": [
    "#Evaluación 3"
   ]
  },
  {
   "cell_type": "code",
   "execution_count": null,
   "id": "3b3faf00",
   "metadata": {},
   "outputs": [],
   "source": [
    "import os\n",
    "\n",
    "\n",
    "import geopandas as gpd\n",
    "from  fiona import listlayers\n",
    "\n",
    "#maps\n",
    "colombiaMaps=''\n",
    "\n",
    "#layers in maps\n",
    "listlayers(colombiaMaps)"
   ]
  },
  {
   "cell_type": "code",
   "execution_count": null,
   "id": "76bd1669",
   "metadata": {},
   "outputs": [],
   "source": [
    "colombia=gpd.read_file(brazilMaps,layer='country')\n",
    "colombia_cities=gpd.read_file(brazilMaps,layer='cities')\n",
    "colombia_rivers=gpd.read_file(brazilMaps,layer='rivers')"
   ]
  },
  {
   "cell_type": "code",
   "execution_count": null,
   "id": "7e3d5c61",
   "metadata": {},
   "outputs": [],
   "source": [
    "colombia.crs.to_epsg()==colombia_cities.crs.to_epsg()==colombia_rivers.crs.to_epsg()"
   ]
  },
  {
   "cell_type": "code",
   "execution_count": null,
   "id": "d869f009",
   "metadata": {},
   "outputs": [],
   "source": []
  },
  {
   "cell_type": "code",
   "execution_count": null,
   "id": "240b8ff4",
   "metadata": {},
   "outputs": [],
   "source": []
  },
  {
   "cell_type": "code",
   "execution_count": null,
   "id": "63298aa4",
   "metadata": {},
   "outputs": [],
   "source": []
  },
  {
   "cell_type": "code",
   "execution_count": null,
   "id": "4f74fb3e",
   "metadata": {},
   "outputs": [],
   "source": []
  }
 ],
 "metadata": {
  "kernelspec": {
   "display_name": "Python 3 (ipykernel)",
   "language": "python",
   "name": "python3"
  },
  "language_info": {
   "codemirror_mode": {
    "name": "ipython",
    "version": 3
   },
   "file_extension": ".py",
   "mimetype": "text/x-python",
   "name": "python",
   "nbconvert_exporter": "python",
   "pygments_lexer": "ipython3",
   "version": "3.11.5"
  }
 },
 "nbformat": 4,
 "nbformat_minor": 5
}
