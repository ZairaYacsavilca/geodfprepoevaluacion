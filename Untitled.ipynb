{
 "cells": [
  {
   "cell_type": "code",
   "execution_count": null,
   "id": "05291aec",
   "metadata": {},
   "outputs": [],
   "source": [
    "#Evaluación 3"
   ]
  },
  {
   "cell_type": "code",
   "execution_count": null,
   "id": "c3cedab8",
   "metadata": {},
   "outputs": [],
   "source": [
    "import os\n",
    "\n",
    "\n",
    "import geopandas as gpd\n",
    "from  fiona import listlayers\n",
    "\n",
    "#maps\n",
    "colombiaMaps=''\n",
    "\n",
    "#layers in maps\n",
    "listlayers(colombiaMaps)"
   ]
  },
  {
   "cell_type": "code",
   "execution_count": null,
   "id": "8f4822ac",
   "metadata": {},
   "outputs": [],
   "source": []
  },
  {
   "cell_type": "code",
   "execution_count": null,
   "id": "7f1c4dd6",
   "metadata": {},
   "outputs": [],
   "source": []
  }
 ],
 "metadata": {
  "kernelspec": {
   "display_name": "Python 3 (ipykernel)",
   "language": "python",
   "name": "python3"
  },
  "language_info": {
   "codemirror_mode": {
    "name": "ipython",
    "version": 3
   },
   "file_extension": ".py",
   "mimetype": "text/x-python",
   "name": "python",
   "nbconvert_exporter": "python",
   "pygments_lexer": "ipython3",
   "version": "3.11.5"
  }
 },
 "nbformat": 4,
 "nbformat_minor": 5
}
